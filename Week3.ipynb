{
  "cells": [
    {
      "cell_type": "markdown",
      "metadata": {
        "id": "view-in-github",
        "colab_type": "text"
      },
      "source": [
        "<a href=\"https://colab.research.google.com/github/robynoconnor/Minimax/blob/main/Week3.ipynb\" target=\"_parent\"><img src=\"https://colab.research.google.com/assets/colab-badge.svg\" alt=\"Open In Colab\"/></a>"
      ]
    },
    {
      "cell_type": "code",
      "execution_count": 106,
      "id": "a687d4f9-db1e-44af-894d-d364fac44b86",
      "metadata": {
        "id": "a687d4f9-db1e-44af-894d-d364fac44b86"
      },
      "outputs": [],
      "source": [
        "!pip install -q census us folium geopandas colorcet"
      ]
    },
    {
      "cell_type": "code",
      "execution_count": 107,
      "id": "9068141e-df0b-4391-8f89-ce24b8426b47",
      "metadata": {
        "id": "9068141e-df0b-4391-8f89-ce24b8426b47"
      },
      "outputs": [],
      "source": [
        "%config InlineBackend.figure_formats = [\"retina\"]\n",
        "\n",
        "import matplotlib.pyplot as plt\n",
        "import pandas as pd\n",
        "import geopandas as gpd\n",
        "import folium\n",
        "import colorcet as cc\n",
        "\n",
        "from census import Census"
      ]
    },
    {
      "cell_type": "code",
      "execution_count": 108,
      "id": "986c5316-ddf8-461a-89a1-825d9bb15c24",
      "metadata": {
        "id": "986c5316-ddf8-461a-89a1-825d9bb15c24"
      },
      "outputs": [],
      "source": [
        "census = Census(\"\", year=2020)"
      ]
    },
    {
      "cell_type": "markdown",
      "id": "21744d23-9447-472f-85d7-d52e234d0d4b",
      "metadata": {
        "id": "21744d23-9447-472f-85d7-d52e234d0d4b"
      },
      "source": [
        "# Week 3: Exploring the U.S. Census, part 2 (units, hierarchies, the central spine, ACS)\n",
        "\n",
        "Last week, we examined some of the demographic data published by the U.S. Census Bureau. That demographic data is associated with geographic units: for instance, we examined population by race (and Hispanic/Latin origin) at the county level. To make sense of this data beyond basic summary statistics, it is extremely useful to superimpose it on a map. This week, we'll explore how to download and visualize Census geographies, and we'll create combine demographic data with these geographies to create [choropleth maps](https://en.wikipedia.org/wiki/Choropleth_map)."
      ]
    },
    {
      "cell_type": "markdown",
      "id": "3a0161dc-68b6-42b5-9dd1-02e05f4ce4de",
      "metadata": {
        "id": "3a0161dc-68b6-42b5-9dd1-02e05f4ce4de"
      },
      "source": [
        "## Loading geographical data"
      ]
    },
    {
      "cell_type": "markdown",
      "id": "5861d5e3-e2a4-48ca-b50a-f7fe7c26f215",
      "metadata": {
        "id": "5861d5e3-e2a4-48ca-b50a-f7fe7c26f215"
      },
      "source": [
        "Census geographies are published as _shapefiles_. The [ESRI shapefile format](https://en.wikipedia.org/wiki/Shapefile) is extremely popular among GIS (geographic information systems) practictioners, and any serious mapping tool (such as [ArcGIS](https://www.arcgis.com/index.html)) can read shapefiles. [GeoPandas](https://geopandas.org/en/stable/getting_started/introduction.html) is a Python package that extends Pandas to support reading shapefiles and plotting geographies; we'll use this package extensively in the coming weeks to build geospatial visualizations. Let's start by downloading a shapefile containing the outlines of all U.S. counties from the Census website."
      ]
    },
    {
      "cell_type": "code",
      "execution_count": null,
      "id": "6cacc1c9-fd65-4964-8294-22e7c1b0922d",
      "metadata": {
        "id": "6cacc1c9-fd65-4964-8294-22e7c1b0922d"
      },
      "outputs": [],
      "source": [
        "county_gdf = gpd.read_file(\"https://web.archive.org/web/20241002004532if_/https://www2.census.gov/geo/tiger/TIGER2024/COUNTY/tl_2024_us_county.zip\").set_index(\"GEOID\")"
      ]
    },
    {
      "cell_type": "code",
      "execution_count": null,
      "id": "51e297af-8800-4217-bdcd-8e7c6fc2c39b",
      "metadata": {
        "id": "51e297af-8800-4217-bdcd-8e7c6fc2c39b"
      },
      "outputs": [],
      "source": [
        "county_gdf.head(5)"
      ]
    },
    {
      "cell_type": "markdown",
      "id": "527a9db6-8473-4c2c-bb71-343e6aec7eed",
      "metadata": {
        "id": "527a9db6-8473-4c2c-bb71-343e6aec7eed"
      },
      "source": [
        "GeoPandas includes a `.plot()` function (similar to the `.plot.pie()` and `.plot.bar()` Pandas functions we saw last week). With this function, we can quickly get a sense of what `county_gdf` contains."
      ]
    },
    {
      "cell_type": "code",
      "execution_count": null,
      "id": "c98cce32-d40e-48e5-b046-1074091321be",
      "metadata": {
        "id": "c98cce32-d40e-48e5-b046-1074091321be"
      },
      "outputs": [],
      "source": [
        "county_gdf.plot(figsize=(40, 80))\n",
        "plt.show()"
      ]
    },
    {
      "cell_type": "markdown",
      "id": "ecd3c237-684b-4611-b3fd-5e4b43fee8a7",
      "metadata": {
        "id": "ecd3c237-684b-4611-b3fd-5e4b43fee8a7"
      },
      "source": [
        "There's a problem with this initial visualization: it's mostly empty space! This is because the county shapefile covers _all_ territories of the U.S., including some Pacific territories (Guam, American Samoa, and the Northern Mariana Islands) that appear in the upper right of this plot. Let's narrow down the visualization to the continental U.S by filtering on FIPS code (conveniently, the outlying territories all have FIPS codes above 56)."
      ]
    },
    {
      "cell_type": "code",
      "execution_count": null,
      "id": "8c68d23c-aa0c-4c1c-85da-04cb5c17c4a7",
      "metadata": {
        "id": "8c68d23c-aa0c-4c1c-85da-04cb5c17c4a7"
      },
      "outputs": [],
      "source": [
        "# Filter out American Samoa, U.S. Virgin Islands, etc.\n",
        "continental_gdf = county_gdf[\n",
        "      (county_gdf.STATEFP <= \"56\")\n",
        "    & (county_gdf.STATEFP != \"02\")  # exclude Alaska\n",
        "    & (county_gdf.STATEFP != \"15\")  # exclude Hawaii\n",
        "]"
      ]
    },
    {
      "cell_type": "code",
      "execution_count": null,
      "id": "ce7f559c-0063-4907-af81-c9edd6de6c84",
      "metadata": {
        "id": "ce7f559c-0063-4907-af81-c9edd6de6c84"
      },
      "outputs": [],
      "source": [
        "continental_gdf.plot(figsize=(20, 40))\n",
        "plt.show()"
      ]
    },
    {
      "cell_type": "markdown",
      "id": "c3df72a6-faf7-486a-82c5-e2a3bff8a996",
      "metadata": {
        "id": "c3df72a6-faf7-486a-82c5-e2a3bff8a996"
      },
      "source": [
        "That's better! Now, let's color the map by state (using the `STATEFP` column, which contains the state FIPS code for each county). Note that some of the state borders look a little odd (this effect is most pronounced in Michigan); this is because the Census geographies include some water areas."
      ]
    },
    {
      "cell_type": "code",
      "execution_count": null,
      "id": "fc58d972-6eb4-4b7f-8dc7-df3eb1df70c7",
      "metadata": {
        "id": "fc58d972-6eb4-4b7f-8dc7-df3eb1df70c7"
      },
      "outputs": [],
      "source": [
        "continental_gdf.plot(figsize=(20, 40), column=\"STATEFP\", cmap=cc.cm.glasbey_hv)\n",
        "plt.show()"
      ]
    },
    {
      "cell_type": "markdown",
      "id": "d394f59c-a1f1-4ed5-a7fc-d89a0cd752c9",
      "metadata": {
        "id": "d394f59c-a1f1-4ed5-a7fc-d89a0cd752c9"
      },
      "source": [
        "## Choosing a map projection"
      ]
    },
    {
      "cell_type": "markdown",
      "id": "2c5d0fb4-3d45-476a-9180-bbe8de9af35d",
      "metadata": {
        "id": "2c5d0fb4-3d45-476a-9180-bbe8de9af35d"
      },
      "source": [
        "You may have noticed something about the shape of the country not looking \"right\" -- that's because this is what the geographers call \"unprojected,\" meaning that it uses latitude and longitude for its x and y coordinates directly, rather than transforming them to better represent either angles or areas.\n",
        "\n",
        "ref:\n",
        "* [Choosing the right map projection](https://source.opennews.org/articles/choosing-right-map-projection/)\n",
        "* [geopandas.GeoDataFrame.plot()](https://geopandas.org/en/stable/docs/reference/api/geopandas.GeoDataFrame.plot.html)"
      ]
    },
    {
      "cell_type": "code",
      "execution_count": null,
      "id": "a3747410-7395-4f00-8e7f-5512fd850482",
      "metadata": {
        "id": "a3747410-7395-4f00-8e7f-5512fd850482"
      },
      "outputs": [],
      "source": [
        "continental_gdf.crs"
      ]
    },
    {
      "cell_type": "code",
      "execution_count": null,
      "id": "5fb04957-0e50-427d-a8ec-fc45de3f5b13",
      "metadata": {
        "id": "5fb04957-0e50-427d-a8ec-fc45de3f5b13"
      },
      "outputs": [],
      "source": [
        "continental_gdf = continental_gdf.to_crs(\"EPSG:2163\")"
      ]
    },
    {
      "cell_type": "code",
      "execution_count": null,
      "id": "a67562b6-b5f6-47bd-867f-346579c6a5b2",
      "metadata": {
        "id": "a67562b6-b5f6-47bd-867f-346579c6a5b2"
      },
      "outputs": [],
      "source": [
        "continental_gdf.crs"
      ]
    },
    {
      "cell_type": "code",
      "execution_count": null,
      "id": "8921962e-6bbd-407b-ab3f-d38f06505fff",
      "metadata": {
        "id": "8921962e-6bbd-407b-ab3f-d38f06505fff"
      },
      "outputs": [],
      "source": [
        "continental_gdf.plot(figsize=(20, 40), column=\"STATEFP\", cmap=cc.cm.glasbey_hv, edgecolor=\"0.2\", linewidth=0.5)\n",
        "plt.axis(\"off\")\n",
        "plt.show()"
      ]
    },
    {
      "cell_type": "markdown",
      "id": "aa99ede8-22fb-4d83-90ae-41924fd0d6f1",
      "metadata": {
        "id": "aa99ede8-22fb-4d83-90ae-41924fd0d6f1"
      },
      "source": [
        "## The Census unit hierarchy\n",
        "\n",
        "The core Census geographic units are organized into hierarchy (sometimes referred to as _the central spine_): states contain counties, which contain _tracts_, which contain _block groups_, which contain _blocks_. States and counties are (mostly) static political units with boundaries generally not determined by the Census; tracts, block groups, and blocks are statistical units defined by the Census. These statistical units are subject to change for each decennial Census. Blocks are the most granular unit in this hierarchy, and [many Census blocks are unpopulated](https://mapsbynik.com/maps/census0pop/).\n",
        "\n",
        "![U.S. Census central spine (source: University of Missouri)](https://mcdc.missouri.edu/geography/sumlevs/censusgeochart.png)\n",
        "\n",
        "_(image credit: University of Missouri)_\n",
        "\n",
        "The Census also publishes data for political and statistical areas that do not fall neatly in this spine. For instance, school districts nest in states, but they do not necessarily nest in counties; voting districts nest in counties, but not necessarily in tracts.\n",
        "\n",
        "Let's examine how the state of New York is broken up into various Census units, starting with counties—the least granular unit (below the state level) on the central spine."
      ]
    },
    {
      "cell_type": "markdown",
      "id": "d853489f-6d9f-4f8a-a68c-927f589f4b13",
      "metadata": {
        "id": "d853489f-6d9f-4f8a-a68c-927f589f4b13"
      },
      "source": [
        "### Counties\n",
        "The U.S. Census releases a county shapefile at the national level; to plot just the counties in New York, we need to filter by state FIPS code."
      ]
    },
    {
      "cell_type": "code",
      "execution_count": null,
      "id": "440824b6-efc8-4069-9f9f-40cb826ea167",
      "metadata": {
        "id": "440824b6-efc8-4069-9f9f-40cb826ea167"
      },
      "outputs": [],
      "source": [
        "la_county_gdf = continental_gdf[continental_gdf.STATEFP == \"22\"]"
      ]
    },
    {
      "cell_type": "code",
      "execution_count": null,
      "id": "4077d45a-46ad-4309-8364-49c5e6af1607",
      "metadata": {
        "id": "4077d45a-46ad-4309-8364-49c5e6af1607"
      },
      "outputs": [],
      "source": [
        "la_county_gdf.head(5)"
      ]
    },
    {
      "cell_type": "code",
      "execution_count": null,
      "id": "2f66253f-95f9-497c-8985-2cc344cefb0b",
      "metadata": {
        "id": "2f66253f-95f9-497c-8985-2cc344cefb0b",
        "tags": []
      },
      "outputs": [],
      "source": [
        "la_county_gdf.plot(figsize=(10, 20), edgecolor=\"0.2\", linewidth=0.5)\n",
        "plt.axis(\"off\")\n",
        "plt.show()"
      ]
    },
    {
      "cell_type": "markdown",
      "id": "308ca6a8-d7f8-4a8b-a3ec-f76a7630b29f",
      "metadata": {
        "id": "308ca6a8-d7f8-4a8b-a3ec-f76a7630b29f"
      },
      "source": [
        "### County subdivisions\n",
        "\n",
        "For reporting purposes, the Census divides counties into _county subdivisions_. These subdivisions generally avoid dividing up preexisting political divisions: towns, cities, incorporated places, and the like. (For more on how county subdivisions are defined, see [chapter 8 of the _Geographic Areas Reference Manual_](https://www2.census.gov/geo/pdfs/reference/GARM/Ch8GARM.pdf).)"
      ]
    },
    {
      "cell_type": "code",
      "execution_count": null,
      "id": "a9c89652-2e74-47f8-9ffa-cabb7b05dc84",
      "metadata": {
        "id": "a9c89652-2e74-47f8-9ffa-cabb7b05dc84"
      },
      "outputs": [],
      "source": [
        "la_cousub_gdf = gpd.read_file(\"https://web.archive.org/web/20241002180257if_/https://www2.census.gov/geo/tiger/TIGER2024/COUSUB/tl_2024_22_cousub.zip\").set_index(\"GEOID\").to_crs(\"EPSG:2163\")"
      ]
    },
    {
      "cell_type": "code",
      "execution_count": null,
      "id": "4a0460d3-efe3-4139-a044-328e42471a26",
      "metadata": {
        "id": "4a0460d3-efe3-4139-a044-328e42471a26"
      },
      "outputs": [],
      "source": [
        "la_cousub_gdf.head(5)"
      ]
    },
    {
      "cell_type": "code",
      "execution_count": null,
      "id": "5ea78d15-00f3-484d-9184-f22ec801092d",
      "metadata": {
        "id": "5ea78d15-00f3-484d-9184-f22ec801092d"
      },
      "outputs": [],
      "source": [
        "la_cousub_gdf.plot(figsize=(10, 20), column=\"COUNTYFP\", cmap=cc.cm.glasbey_hv, edgecolor=\"0.2\", linewidth=0.5)\n",
        "plt.axis(\"off\")\n",
        "plt.show()"
      ]
    },
    {
      "cell_type": "markdown",
      "id": "f0fe923b-4184-40fc-bf4b-b0d999abf49c",
      "metadata": {
        "id": "f0fe923b-4184-40fc-bf4b-b0d999abf49c"
      },
      "source": [
        "### Tracts\n",
        "Census tracts are immediately below counties on the central spine. While counties in New York (and most states) vary wildly in population, the populations of Census tracts are much more constrained: [according to the U.S. Census](https://www.census.gov/programs-surveys/geography/about/glossary.html#par_textimage_13), \"Census tracts generally have a population size between 1,200 and 8,000 people, with an optimum size of 4,000 people\". Because of this uniformity, the density of Census tracts roughly corresponds to population density. In the map below, observe the high density of small tracts in major population centers like New York City and the low density of large tracts in the sparsely populated upstate regions."
      ]
    },
    {
      "cell_type": "code",
      "execution_count": null,
      "id": "c88d29da-443f-47d4-971b-75bdfafaaa26",
      "metadata": {
        "id": "c88d29da-443f-47d4-971b-75bdfafaaa26"
      },
      "outputs": [],
      "source": [
        "la_tract_gdf = gpd.read_file(\"https://web.archive.org/web/20241003052404if_/https://www2.census.gov/geo/tiger/TIGER2024/TRACT/tl_2024_22_tract.zip\").set_index(\"GEOID\").to_crs(\"EPSG:2163\")"
      ]
    },
    {
      "cell_type": "code",
      "execution_count": null,
      "id": "2cd03e23-b282-4406-adfd-d23bf52a7f42",
      "metadata": {
        "id": "2cd03e23-b282-4406-adfd-d23bf52a7f42"
      },
      "outputs": [],
      "source": [
        "la_tract_gdf.head(5)"
      ]
    },
    {
      "cell_type": "code",
      "execution_count": null,
      "id": "5295f879-4f0f-4589-a1b2-a2f437050a3c",
      "metadata": {
        "id": "5295f879-4f0f-4589-a1b2-a2f437050a3c"
      },
      "outputs": [],
      "source": [
        "la_tract_gdf.plot(figsize=(10, 20), column=\"COUNTYFP\", cmap=cc.cm.glasbey_hv, edgecolor=\"0.2\", linewidth=0.5)\n",
        "plt.axis(\"off\")\n",
        "plt.show()"
      ]
    },
    {
      "cell_type": "markdown",
      "id": "02cf45c9-31eb-4aec-aad7-8d9c848b9e5f",
      "metadata": {
        "id": "02cf45c9-31eb-4aec-aad7-8d9c848b9e5f"
      },
      "source": [
        "We can filter by FIPS code to zoom in on a particular county. Here is Kings County, which is coterminous with the borough of Brooklyn."
      ]
    },
    {
      "cell_type": "code",
      "execution_count": null,
      "id": "8be3f09e-99cf-494c-aea2-1b583b55cebc",
      "metadata": {
        "id": "8be3f09e-99cf-494c-aea2-1b583b55cebc"
      },
      "outputs": [],
      "source": [
        "new_orleans_tract_gdf = la_tract_gdf[la_tract_gdf.COUNTYFP == \"071\"]"
      ]
    },
    {
      "cell_type": "code",
      "execution_count": null,
      "id": "6afd8bda-f91f-4e4c-9e53-4f7d3e8476c8",
      "metadata": {
        "id": "6afd8bda-f91f-4e4c-9e53-4f7d3e8476c8"
      },
      "outputs": [],
      "source": [
        "new_orleans_tract_gdf.head(5)"
      ]
    },
    {
      "cell_type": "code",
      "execution_count": null,
      "id": "1ac69a98-e1d1-42ef-a226-8adf57edaa06",
      "metadata": {
        "id": "1ac69a98-e1d1-42ef-a226-8adf57edaa06"
      },
      "outputs": [],
      "source": [
        "new_orleans_tract_gdf.plot(figsize=(10, 10), edgecolor=\"0.2\", linewidth=0.5)\n",
        "plt.axis(\"off\")\n",
        "plt.show()"
      ]
    },
    {
      "cell_type": "markdown",
      "id": "fa825007-38e3-4a56-82e0-d7e0e3726be2",
      "metadata": {
        "id": "fa825007-38e3-4a56-82e0-d7e0e3726be2"
      },
      "source": [
        "We can see that Census tracts, being composed of census blocks (which are often themselves equal to city blocks), generally follow the city's grid.\n",
        "\n",
        "<img width=\"512\" alt=\"Brooklyn neighborhoods map\" src=\"https://upload.wikimedia.org/wikipedia/commons/thumb/f/f2/Brooklyn_neighborhoods_map.png/512px-Brooklyn_neighborhoods_map.png?20090719024832\">\n",
        "\n",
        "_(image credit: <a href=\"https://commons.wikimedia.org/wiki/File:Brooklyn_neighborhoods_map.png\">Peter Fitzgerald</a>, <a href=\"https://creativecommons.org/licenses/by/3.0\">CC BY 3.0</a>, via Wikimedia Commons)_"
      ]
    },
    {
      "cell_type": "markdown",
      "id": "4c4a63d1-c4e0-4988-ae23-da9fe0db5a3f",
      "metadata": {
        "id": "4c4a63d1-c4e0-4988-ae23-da9fe0db5a3f"
      },
      "source": [
        "# Introducing ACS data\n",
        "\n",
        "In addition to publishing decennial data, the U.S. Census Bureau publishes [American Community Survey](https://www.census.gov/programs-surveys/acs) (ACS) data every year. The ACS is sent to a random sample of U.S. addresses; ACS data includes population estimates by race and ethnicity (which is useful for understanding demographic shifts between decennial Censuses), but it is also an invaluable source for understanding economic and social trends. As a simple example, let's take a look at a subset of the means of transportation data available in the ACS."
      ]
    },
    {
      "cell_type": "code",
      "execution_count": null,
      "id": "a4427dd5-5917-46ba-8344-667b89b16751",
      "metadata": {
        "id": "a4427dd5-5917-46ba-8344-667b89b16751"
      },
      "outputs": [],
      "source": [
        "new_orleans_subway_usage_raw = census.acs5.get(\n",
        "    (\n",
        "        # Means of Transportation to Work – Total\n",
        "        \"B08301_001E\",\n",
        "        # Means of Transportation to Work – Total – Public transportation (excluding taxicab) – Subway or elevated rail\n",
        "        \"B08301_012E\",\n",
        "    ),\n",
        "    geo={\n",
        "        \"for\": \"tract:*\",\n",
        "        \"in\": f\"state:22 county:071\",\n",
        "    },\n",
        "    year=2022,\n",
        ")"
      ]
    },
    {
      "cell_type": "code",
      "execution_count": null,
      "id": "bb64698b-0b8d-43d9-b8ce-922f83a0f572",
      "metadata": {
        "id": "bb64698b-0b8d-43d9-b8ce-922f83a0f572"
      },
      "outputs": [],
      "source": [
        "new_orleans_subway_usage_df = pd.DataFrame(new_orleans_subway_usage_raw).rename(\n",
        "    columns={\n",
        "        \"B08301_001E\": \"commuter_count\",\n",
        "        \"B08301_012E\": \"subway_commuter_count\",\n",
        "    }\n",
        ")"
      ]
    },
    {
      "cell_type": "code",
      "execution_count": null,
      "id": "affa688f-e74c-44d9-bcda-05ed4d7ce452",
      "metadata": {
        "id": "affa688f-e74c-44d9-bcda-05ed4d7ce452"
      },
      "outputs": [],
      "source": [
        "new_orleans_subway_usage_df"
      ]
    },
    {
      "cell_type": "code",
      "execution_count": null,
      "id": "916f5264-baf2-4ef4-a0ca-18173566c511",
      "metadata": {
        "id": "916f5264-baf2-4ef4-a0ca-18173566c511"
      },
      "outputs": [],
      "source": [
        "new_orleans_subway_usage_df[\"GEOID\"] = (\n",
        "    new_orleans_subway_usage_df[\"state\"]\n",
        "    + new_orleans_subway_usage_df[\"county\"]\n",
        "    + new_orleans_subway_usage_df[\"tract\"]\n",
        ")\n",
        "new_orleans_subway_usage_df = new_orleans_subway_usage_df.set_index(\"GEOID\")\n",
        "new_orleans_subway_usage_df[\"subway_pct\"] = 100 * new_orleans_subway_usage_df[\"subway_commuter_count\"] / new_orleans_subway_usage_df[\"commuter_count\"]"
      ]
    },
    {
      "cell_type": "code",
      "execution_count": null,
      "id": "57a4f469-6e8a-4ec2-a5b3-fcfb844d76ed",
      "metadata": {
        "id": "57a4f469-6e8a-4ec2-a5b3-fcfb844d76ed"
      },
      "outputs": [],
      "source": [
        "new_orleans_subway_usage_df.sort_values(by=[\"subway_pct\"])"
      ]
    },
    {
      "cell_type": "code",
      "execution_count": null,
      "id": "82199258-e4d1-4a52-b831-6dbe12464690",
      "metadata": {
        "id": "82199258-e4d1-4a52-b831-6dbe12464690"
      },
      "outputs": [],
      "source": [
        "new_orleans_subway_usage_df = new_orleans_subway_usage_df[new_orleans_subway_usage_df.commuter_count > 0]"
      ]
    },
    {
      "cell_type": "code",
      "execution_count": null,
      "id": "a28f17f5-bbf1-446f-b58d-3adfa890ee81",
      "metadata": {
        "id": "a28f17f5-bbf1-446f-b58d-3adfa890ee81"
      },
      "outputs": [],
      "source": [
        "new_orleans_subway_usage_gdf = new_orleans_tract_gdf.join(new_orleans_subway_usage_df)"
      ]
    },
    {
      "cell_type": "code",
      "execution_count": null,
      "id": "4b88477e-aabf-4cf2-85fd-f6445be5a486",
      "metadata": {
        "id": "4b88477e-aabf-4cf2-85fd-f6445be5a486"
      },
      "outputs": [],
      "source": [
        "ax = new_orleans_subway_usage_gdf.plot(figsize=(10, 10), column=\"commuter_count\", legend=True)\n",
        "ax.axis(\"off\")\n",
        "ax.set_title(\"Subway usage by commuters (%)\")\n",
        "plt.show()"
      ]
    },
    {
      "cell_type": "code",
      "execution_count": null,
      "id": "24d5e108-8239-42b3-b305-f1041ce2b97f",
      "metadata": {
        "id": "24d5e108-8239-42b3-b305-f1041ce2b97f"
      },
      "outputs": [],
      "source": [
        "subway_map = folium.Map([40.65, -73.95], zoom_start=12)\n",
        "folium.GeoJson(brooklyn_subway_usage_gdf).add_to(subway_map)\n",
        "subway_map"
      ]
    },
    {
      "cell_type": "code",
      "execution_count": null,
      "id": "5d924884-865d-4233-b074-d5a902fcb2a0",
      "metadata": {
        "id": "5d924884-865d-4233-b074-d5a902fcb2a0"
      },
      "outputs": [],
      "source": [
        "subway_map = folium.Map([40.65, -73.95], zoom_start=12)\n",
        "folium.Choropleth(\n",
        "    geo_data=brooklyn_subway_usage_gdf,\n",
        "    name=\"choropleth\",\n",
        "    data=brooklyn_subway_usage_gdf,\n",
        "    columns=[\"NAMELSAD\", \"subway_pct\"],\n",
        "    key_on=\"feature.properties.NAMELSAD\",\n",
        "    fill_color=\"YlGn\",\n",
        "    fill_opacity=0.7,\n",
        "    line_opacity=0.2,\n",
        "    legend_name=\"Unemployment Rate (%)\",\n",
        ").add_to(subway_map)\n",
        "subway_map"
      ]
    },
    {
      "cell_type": "markdown",
      "source": [
        "#Homework 3, due Thursday Feb 20, 1:25pm\n",
        "\n",
        "(This takes the exam and Feb break into account.)\n",
        "\n",
        "The **data product** part of your homework is to make an interesting choropleth using ACS data!  You pick the geography and the variables to visualize.\n",
        "\n",
        "The **reading response** part of your homework comes from the Monmonier chapter.  Monmonier tells lots of stories of sloppy mapping, theft by mapping, and fights over mapping.  Pick one story and briefly describe whether/how the story involves dueling experts, physical tools, map notation, money, and legal authority."
      ],
      "metadata": {
        "id": "Cj6DonPUaEo3"
      },
      "id": "Cj6DonPUaEo3"
    }
  ],
  "metadata": {
    "colab": {
      "provenance": [],
      "include_colab_link": true
    },
    "kernelspec": {
      "display_name": "Python 3 (ipykernel)",
      "language": "python",
      "name": "python3"
    },
    "language_info": {
      "codemirror_mode": {
        "name": "ipython",
        "version": 3
      },
      "file_extension": ".py",
      "mimetype": "text/x-python",
      "name": "python",
      "nbconvert_exporter": "python",
      "pygments_lexer": "ipython3",
      "version": "3.10.2"
    }
  },
  "nbformat": 4,
  "nbformat_minor": 5
}